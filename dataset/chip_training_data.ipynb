{
 "cells": [
  {
   "cell_type": "markdown",
   "id": "24ff7e58-f623-47f0-a116-737ffe18f807",
   "metadata": {},
   "source": [
    "### Code for generating the csv's that hold the training and validation extents used for training the U-net models"
   ]
  },
  {
   "cell_type": "code",
   "execution_count": 1,
   "id": "bcf32a91-4ea5-4c5c-b767-cb4c08ea4616",
   "metadata": {
    "tags": []
   },
   "outputs": [],
   "source": [
    "import numpy as np\n",
    "import pandas as pd\n",
    "from tqdm import tqdm\n",
    "from common import Tile, ard, train_val_split"
   ]
  },
  {
   "cell_type": "code",
   "execution_count": 2,
   "id": "7f134d91-90fc-4c7d-befd-2f56eaed5bf2",
   "metadata": {
    "tags": []
   },
   "outputs": [],
   "source": [
    "train_paths = {\n",
    "    \"image\": \"leafon{year}.tif\",\n",
    "    \"target\": \"NLCD_{year}_Land_Cover.tif\",\n",
    "   }\n",
    "train_years = ['2001', '2004', '2006', '2008', '2011', '2013', '2016', '2019']"
   ]
  },
  {
   "cell_type": "code",
   "execution_count": 3,
   "id": "9422a41a-69b3-4308-b30b-e602ab636dab",
   "metadata": {
    "tags": []
   },
   "outputs": [],
   "source": [
    "ard_tiles = [Tile(3, 10), Tile(4, 1), Tile(13, 13), Tile(20, 8), Tile(24, 13)]"
   ]
  },
  {
   "cell_type": "code",
   "execution_count": 4,
   "id": "c5fcfab7-6848-4111-86f3-022a231eb2fb",
   "metadata": {
    "tags": []
   },
   "outputs": [
    {
     "name": "stderr",
     "output_type": "stream",
     "text": [
      "100%|█████████████████████████████████████████████████████████████████████████████████████████████| 5/5 [00:00<00:00, 512.91it/s]\n"
     ]
    }
   ],
   "source": [
    "gsd = 30 # ground sampling distance\n",
    "chip_size = (256, 256) # row, col\n",
    "chips = []\n",
    "for tile in tqdm(ard_tiles):\n",
    "    left, bottom, right, top = ard[((ard['h'] == tile.h) & (ard['v'] == tile.v))]['geometry'].bounds.iloc[0]\n",
    "    for row in range(0, int((top - bottom) / gsd), chip_size[1]):\n",
    "        for col in range(0, int((right - left) / gsd), chip_size[0]):\n",
    "            chips.append({\"xgeo\": (col * gsd) + left, \"ygeo\": top - (row * gsd)})"
   ]
  },
  {
   "cell_type": "code",
   "execution_count": 5,
   "id": "c509ee66-684a-440d-83aa-726c7bd644b7",
   "metadata": {
    "tags": []
   },
   "outputs": [],
   "source": [
    "## create training, val datasets\n",
    "train_indx, val_indx = train_val_split(chips, .80, 42)"
   ]
  },
  {
   "cell_type": "code",
   "execution_count": 6,
   "id": "df62f5b6-192e-41aa-ac1b-6de7f5d5625a",
   "metadata": {
    "tags": []
   },
   "outputs": [
    {
     "name": "stdout",
     "output_type": "stream",
     "text": [
      "1600 400\n"
     ]
    }
   ],
   "source": [
    "train_chips = np.array(chips)[train_indx]\n",
    "val_chips = np.array(chips)[val_indx]\n",
    "print(len(train_chips), len(val_chips))"
   ]
  },
  {
   "cell_type": "code",
   "execution_count": 7,
   "id": "bf1f78a2-67fd-49b1-ab96-576e59c37249",
   "metadata": {
    "tags": []
   },
   "outputs": [
    {
     "name": "stderr",
     "output_type": "stream",
     "text": [
      "100%|█████████████████████████████████████████████████████████████████████████████████████████████| 8/8 [00:00<00:00, 492.80it/s]\n"
     ]
    }
   ],
   "source": [
    "train_dfs = []\n",
    "val_dfs = []\n",
    "\n",
    "for year in tqdm(train_years):\n",
    "    train_data = pd.DataFrame(list(train_chips))\n",
    "    val_data = pd.DataFrame(list(val_chips))\n",
    "    train_data['image'] = train_paths['image'].replace('{year}', year)\n",
    "    train_data['target'] = train_paths['target'].replace('{year}', year)\n",
    "    val_data['image'] = train_paths['image'].replace('{year}', year)\n",
    "    val_data['target'] = train_paths['target'].replace('{year}', year)\n",
    "    train_dfs.append(train_data)\n",
    "    val_dfs.append(val_data)    "
   ]
  },
  {
   "cell_type": "code",
   "execution_count": 8,
   "id": "0e74005b-8199-4778-9858-f0041d8aabfa",
   "metadata": {
    "tags": []
   },
   "outputs": [],
   "source": [
    "train_csv = pd.concat(train_dfs).sample(frac=1, random_state=42).reset_index(drop=True)\n",
    "val_csv = pd.concat(val_dfs).sample(frac=1, random_state=42).reset_index(drop=True)"
   ]
  },
  {
   "cell_type": "code",
   "execution_count": 9,
   "id": "4259a5b0-59a5-43f6-8230-f2e3b736d5d4",
   "metadata": {
    "tags": []
   },
   "outputs": [
    {
     "data": {
      "text/plain": [
       "(12800, 3200)"
      ]
     },
     "execution_count": 9,
     "metadata": {},
     "output_type": "execute_result"
    }
   ],
   "source": [
    "len(train_csv), len(val_csv)"
   ]
  },
  {
   "cell_type": "code",
   "execution_count": 10,
   "id": "53b2c1df-eca2-4f45-9b54-2c2f5bd5dba3",
   "metadata": {
    "tags": []
   },
   "outputs": [],
   "source": [
    "train_csv.to_csv('./samples/train_unet_chips_256.csv')\n",
    "val_csv.to_csv('./samples/val_unet_chips_256.csv')"
   ]
  }
 ],
 "metadata": {
  "kernelspec": {
   "display_name": "Python 3 (ipykernel)",
   "language": "python",
   "name": "python3"
  },
  "language_info": {
   "codemirror_mode": {
    "name": "ipython",
    "version": 3
   },
   "file_extension": ".py",
   "mimetype": "text/x-python",
   "name": "python",
   "nbconvert_exporter": "python",
   "pygments_lexer": "ipython3",
   "version": "3.10.6"
  }
 },
 "nbformat": 4,
 "nbformat_minor": 5
}
