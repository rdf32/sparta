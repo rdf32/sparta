{
 "cells": [
  {
   "cell_type": "code",
   "execution_count": null,
   "id": "e1f7c826-3d07-4c01-88f7-6b99eacf045e",
   "metadata": {
    "tags": []
   },
   "outputs": [],
   "source": [
    "from sparta.common import pool_map\n",
    "import pandas as pd"
   ]
  },
  {
   "cell_type": "code",
   "execution_count": 17,
   "id": "c29cf78a-940b-412b-a6b6-75afaed4f2f2",
   "metadata": {
    "tags": []
   },
   "outputs": [],
   "source": [
    "import numpy as np\n",
    "import rasterio as rio\n",
    "from functools import partial\n",
    "def check_image(i, data) -> np.ndarray:\n",
    "    \"\"\"\n",
    "    Read raster window into numpy array.\n",
    "    \"\"\"\n",
    "    sample = data.iloc[i]\n",
    "    \n",
    "    \n",
    "    with rio.open(sample['target']) as ds:\n",
    "        row, col = ds.index(sample['xgeo'], sample['ygeo'])\n",
    "        data = ds.read(\n",
    "            window=rio.windows.Window(col, row, 256, 256)\n",
    "            )\n",
    "        if np.any(data == 0):\n",
    "            return None\n",
    "    return i"
   ]
  },
  {
   "cell_type": "code",
   "execution_count": 18,
   "id": "79b486ce-d7dd-4738-aa6b-47b1546c506c",
   "metadata": {
    "tags": []
   },
   "outputs": [],
   "source": [
    "train_df = pd.read_csv('./samples/train_unet_chips_256.csv')\n",
    "val_df = pd.read_csv('./samples/val_unet_chips_256.csv')"
   ]
  },
  {
   "cell_type": "code",
   "execution_count": 19,
   "id": "a5325e7e-6f7f-482d-84d5-7bdf12287c5b",
   "metadata": {
    "tags": []
   },
   "outputs": [
    {
     "name": "stdout",
     "output_type": "stream",
     "text": [
      "100%|██████████████████████████████████████████████████████████████████████████████████████| 12800/12800 [00:15<00:00, 806.67it/s]\n"
     ]
    }
   ],
   "source": [
    "train_mask = pool_map(partial(check_image, data=train_df), range(len(train_df)))"
   ]
  },
  {
   "cell_type": "code",
   "execution_count": 20,
   "id": "8761a2fb-6e64-4249-b943-05ff0f46c601",
   "metadata": {
    "tags": []
   },
   "outputs": [
    {
     "name": "stdout",
     "output_type": "stream",
     "text": [
      "100%|███████████████████████████████████████████████████████████████████████████████████████| 3200/3200 [00:01<00:00, 1910.48it/s]\n"
     ]
    }
   ],
   "source": [
    "val_mask = pool_map(partial(check_image, data=val_df), range(len(val_df)))"
   ]
  },
  {
   "cell_type": "code",
   "execution_count": 25,
   "id": "97a74625-3818-407b-9491-93eb8bc5d48b",
   "metadata": {
    "tags": []
   },
   "outputs": [],
   "source": [
    "train_mask = [val for val in train_mask if val is not None]\n",
    "val_mask = [val for val in val_mask if val is not None]"
   ]
  },
  {
   "cell_type": "code",
   "execution_count": 21,
   "id": "35a7aa82-fc60-4862-82a8-78426c8e3e78",
   "metadata": {
    "tags": []
   },
   "outputs": [
    {
     "data": {
      "text/plain": [
       "True"
      ]
     },
     "execution_count": 21,
     "metadata": {},
     "output_type": "execute_result"
    }
   ],
   "source": [
    "np.any(np.array(train_mask) == 0)"
   ]
  },
  {
   "cell_type": "code",
   "execution_count": 22,
   "id": "ff5c014e-8cdf-4ff1-9de9-2b147460961d",
   "metadata": {
    "tags": []
   },
   "outputs": [
    {
     "data": {
      "text/plain": [
       "True"
      ]
     },
     "execution_count": 22,
     "metadata": {},
     "output_type": "execute_result"
    }
   ],
   "source": [
    "np.any(np.array(val_mask) == 0)"
   ]
  },
  {
   "cell_type": "code",
   "execution_count": 23,
   "id": "3f099ff4-ca81-4e0d-b81e-6dd0693378d8",
   "metadata": {
    "tags": []
   },
   "outputs": [
    {
     "data": {
      "text/plain": [
       "(12800, 3200)"
      ]
     },
     "execution_count": 23,
     "metadata": {},
     "output_type": "execute_result"
    }
   ],
   "source": [
    "len(train_df), len(val_df)"
   ]
  },
  {
   "cell_type": "code",
   "execution_count": 26,
   "id": "c34497d6-05c7-43fe-8106-91e9983e1c5d",
   "metadata": {
    "tags": []
   },
   "outputs": [
    {
     "data": {
      "text/plain": [
       "(12408, 3112)"
      ]
     },
     "execution_count": 26,
     "metadata": {},
     "output_type": "execute_result"
    }
   ],
   "source": [
    "train_sub = train_df.iloc[train_mask]\n",
    "val_sub = val_df.iloc[val_mask]\n",
    "\n",
    "len(train_sub), len(val_sub)"
   ]
  },
  {
   "cell_type": "code",
   "execution_count": null,
   "id": "66465728-5c09-4c23-af46-5f4f4b99bb36",
   "metadata": {
    "tags": []
   },
   "outputs": [],
   "source": [
    "train_sub.to_csv('./samples/train_unet_chips_256.csv', index=False)\n",
    "val_sub.to_csv('./samples/val_unet_chips_256.csv', index=False)"
   ]
  }
 ],
 "metadata": {
  "kernelspec": {
   "display_name": "Python 3 (ipykernel)",
   "language": "python",
   "name": "python3"
  },
  "language_info": {
   "codemirror_mode": {
    "name": "ipython",
    "version": 3
   },
   "file_extension": ".py",
   "mimetype": "text/x-python",
   "name": "python",
   "nbconvert_exporter": "python",
   "pygments_lexer": "ipython3",
   "version": "3.10.6"
  }
 },
 "nbformat": 4,
 "nbformat_minor": 5
}
